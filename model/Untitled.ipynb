{
 "cells": [
  {
   "cell_type": "code",
   "execution_count": 1,
   "metadata": {},
   "outputs": [
    {
     "name": "stderr",
     "output_type": "stream",
     "text": [
      "Using TensorFlow backend.\n"
     ]
    }
   ],
   "source": [
    "from data.api import training_data, testing_data\n",
    "from keras.models import Model\n",
    "from keras.layers import Input, Dense\n",
    "from keras.callbacks import TensorBoard, ModelCheckpoint\n",
    "from keras.utils import to_categorical\n",
    "\n",
    "import numpy as np"
   ]
  },
  {
   "cell_type": "code",
   "execution_count": 2,
   "metadata": {},
   "outputs": [],
   "source": [
    "# x_train, l_train = training_data()\n",
    "\n",
    "# l_train = to_categorical(l_train, num_classes=3)"
   ]
  },
  {
   "cell_type": "code",
   "execution_count": 3,
   "metadata": {},
   "outputs": [],
   "source": [
    "# x = Input(shape=(4,))\n",
    "\n",
    "# h = Dense(32, activation='sigmoid')(x)\n",
    "# h = Dense(32, activation='sigmoid')(h)\n",
    "# h = Dense(32, activation='sigmoid')(h)\n",
    "# h = Dense(16, activation='sigmoid')(h)\n",
    "# h = Dense(16, activation='sigmoid')(h)\n",
    "\n",
    "# y = Dense(3, activation='softmax')(h)\n",
    "\n",
    "# model = Model(x, y)\n",
    "\n",
    "# model.compile(loss='categorical_crossentropy', optimizer='sgd', metrics=['categorical_accuracy'])\n",
    "\n",
    "# board = TensorBoard('./board/6')\n",
    "# ckpt = ModelCheckpoint('./ckpt/6')\n",
    "# model.fit(x_train, l_train, batch_size=10, epochs=1000, callbacks=[board, ckpt])\n",
    "# # best models yet (in order of performance): 5*, 4*, 2, 3, 6, 1"
   ]
  },
  {
   "cell_type": "code",
   "execution_count": 4,
   "metadata": {},
   "outputs": [],
   "source": [
    "x_test, y_test = testing_data()\n",
    "y_test = to_categorical(y_test, num_classes=3)"
   ]
  },
  {
   "cell_type": "code",
   "execution_count": 5,
   "metadata": {},
   "outputs": [],
   "source": [
    "# model.evaluate(x_test, y_test)"
   ]
  },
  {
   "cell_type": "code",
   "execution_count": 6,
   "metadata": {},
   "outputs": [],
   "source": [
    "# x_test[17]"
   ]
  },
  {
   "cell_type": "code",
   "execution_count": 7,
   "metadata": {},
   "outputs": [],
   "source": [
    "# print(np.argmax(y_test[20]))\n",
    "\n",
    "# print(np.argmax(model.predict(x_test)[20]))"
   ]
  },
  {
   "cell_type": "code",
   "execution_count": 8,
   "metadata": {},
   "outputs": [],
   "source": [
    "# from keras.models import load_model"
   ]
  },
  {
   "cell_type": "code",
   "execution_count": 9,
   "metadata": {},
   "outputs": [],
   "source": [
    "# model = load_model('./model.h5')\n",
    "\n",
    "# model.evaluate(x_test, y_test)"
   ]
  },
  {
   "cell_type": "code",
   "execution_count": 10,
   "metadata": {},
   "outputs": [],
   "source": [
    "from api import use_model\n"
   ]
  },
  {
   "cell_type": "code",
   "execution_count": 11,
   "metadata": {},
   "outputs": [
    {
     "name": "stdout",
     "output_type": "stream",
     "text": [
      "Iris-setosa\n"
     ]
    }
   ],
   "source": [
    "x1_test = x_test[10].reshape(1, 4)\n",
    "y1_test = y_test[10]\n",
    "# y1_pred = model.predict(x1_test)\n",
    "# print(np.argmax(y1_test))\n",
    "# print(np.argmax(y1_pred))\n",
    "\n",
    "m = use_model()\n",
    "\n",
    "print(m(x1_test))"
   ]
  },
  {
   "cell_type": "code",
   "execution_count": null,
   "metadata": {},
   "outputs": [],
   "source": []
  }
 ],
 "metadata": {
  "kernelspec": {
   "display_name": "Python3 (ml)",
   "language": "python",
   "name": "ml"
  },
  "language_info": {
   "codemirror_mode": {
    "name": "ipython",
    "version": 3
   },
   "file_extension": ".py",
   "mimetype": "text/x-python",
   "name": "python",
   "nbconvert_exporter": "python",
   "pygments_lexer": "ipython3",
   "version": "3.5.1+"
  }
 },
 "nbformat": 4,
 "nbformat_minor": 2
}
